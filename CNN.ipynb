{
 "cells": [
  {
   "cell_type": "markdown",
   "metadata": {},
   "source": [
    "# Convolutional neural networks\n",
    "\n",
    "In this notebook, we'll put together our convolutional layers to implement a 3-layer CNN.  Then, we'll ask you to implement a CNN that can achieve > 65% validation error on CIFAR-10.\n",
    "\n",
    "CS231n has built a solid API for building these modular frameworks and training them, and we will use their very well implemented framework as opposed to \"reinventing the wheel.\"  This includes using their Solver, various utility functions, their layer structure, and their implementation of fast CNN layers.  This also includes nndl.fc_net, nndl.layers, and nndl.layer_utils.  As in prior assignments, we thank Serena Yeung & Justin Johnson for permission to use code written for the CS 231n class (cs231n.stanford.edu).  \n",
    "\n",
    "If you have not completed the Spatial BatchNorm Notebook, please see the following description from that notebook:\n",
    "\n",
    "Please copy and paste your prior implemented code from HW #4 to start this assignment.  If you did not correctly implement the layers in HW #4, you may collaborate with a classmate to use their layer implementations from HW #4.  You may also visit TA or Prof OH to correct your implementation.  \n",
    "\n",
    "You'll want to copy and paste from HW #4:\n",
    "    - layers.py for your FC network layers, as well as batchnorm and dropout.\n",
    "    - layer_utils.py for your combined FC network layers.\n",
    "    - optim.py for your optimizers.\n",
    "\n",
    "Be sure to place these in the `nndl/` directory so they're imported correctly.  Note, as announced in class, we will not be releasing our solutions."
   ]
  },
  {
   "cell_type": "code",
   "execution_count": 1,
   "metadata": {},
   "outputs": [],
   "source": [
    "# As usual, a bit of setup\n",
    "\n",
    "import numpy as np\n",
    "import matplotlib.pyplot as plt\n",
    "from nndl.cnn import *\n",
    "from cs231n.data_utils import get_CIFAR10_data\n",
    "from cs231n.gradient_check import eval_numerical_gradient_array, eval_numerical_gradient\n",
    "from nndl.layers import *\n",
    "from nndl.conv_layers import *\n",
    "from cs231n.fast_layers import *\n",
    "from cs231n.solver import Solver\n",
    "\n",
    "%matplotlib inline\n",
    "plt.rcParams['figure.figsize'] = (10.0, 8.0) # set default size of plots\n",
    "plt.rcParams['image.interpolation'] = 'nearest'\n",
    "plt.rcParams['image.cmap'] = 'gray'\n",
    "\n",
    "# for auto-reloading external modules\n",
    "# see http://stackoverflow.com/questions/1907993/autoreload-of-modules-in-ipython\n",
    "%load_ext autoreload\n",
    "%autoreload 2\n",
    "\n",
    "def rel_error(x, y):\n",
    "  \"\"\" returns relative error \"\"\"\n",
    "  return np.max(np.abs(x - y) / (np.maximum(1e-8, np.abs(x) + np.abs(y))))"
   ]
  },
  {
   "cell_type": "code",
   "execution_count": 7,
   "metadata": {},
   "outputs": [
    {
     "name": "stdout",
     "output_type": "stream",
     "text": [
      "X_train: (49000, 3, 32, 32) \n",
      "y_train: (49000,) \n",
      "X_val: (1000, 3, 32, 32) \n",
      "y_val: (1000,) \n",
      "X_test: (1000, 3, 32, 32) \n",
      "y_test: (1000,) \n"
     ]
    }
   ],
   "source": [
    "# Load the (preprocessed) CIFAR10 data.\n",
    "\n",
    "data = get_CIFAR10_data()\n",
    "for k in data.keys():\n",
    "  print('{}: {} '.format(k, data[k].shape))"
   ]
  },
  {
   "cell_type": "markdown",
   "metadata": {},
   "source": [
    "## Three layer CNN\n",
    "\n",
    "In this notebook, you will implement a three layer CNN.  The `ThreeLayerConvNet` class is in `nndl/cnn.py`.  You'll need to modify that code for this section, including the initialization, as well as the calculation of the loss and gradients.  You should be able to use the building blocks you have either earlier coded or that we have provided.  Be sure to use the fast layers.\n",
    "\n",
    "The architecture of this CNN will be:\n",
    "\n",
    "conv - relu - 2x2 max pool - affine - relu - affine - softmax\n",
    "\n",
    "We won't use batchnorm yet.  You've also done enough of these to know how to debug; use the cells below.\n",
    "\n",
    "Note: As we are implementing several layers CNN networks. The gradient error can be expected for the `eval_numerical_gradient()` function. If your `W1 max relative error` and `W2 max relative error` are around or below 0.01, they should be acceptable. Other errors should be less than 1e-5. "
   ]
  },
  {
   "cell_type": "code",
   "execution_count": 16,
   "metadata": {},
   "outputs": [
    {
     "name": "stdout",
     "output_type": "stream",
     "text": [
      "W1 max relative error: 0.000454473766383712\n",
      "W2 max relative error: 0.00487745862962461\n",
      "W3 max relative error: 0.00017242790843057957\n",
      "b1 max relative error: 3.4132787209784715e-05\n",
      "b2 max relative error: 3.6071628015481695e-07\n",
      "b3 max relative error: 1.0656682517374213e-09\n"
     ]
    }
   ],
   "source": [
    "num_inputs = 2\n",
    "input_dim = (3, 16, 16)\n",
    "reg = 0.0\n",
    "num_classes = 10\n",
    "X = np.random.randn(num_inputs, *input_dim)\n",
    "y = np.random.randint(num_classes, size=num_inputs)\n",
    "\n",
    "model = ThreeLayerConvNet(num_filters=3, filter_size=3,\n",
    "                          input_dim=input_dim, hidden_dim=7,\n",
    "                          dtype=np.float64)\n",
    "loss, grads = model.loss(X, y)\n",
    "for param_name in sorted(grads):\n",
    "    f = lambda _: model.loss(X, y)[0]\n",
    "    param_grad_num = eval_numerical_gradient(f, model.params[param_name], verbose=False, h=1e-6)\n",
    "    e = rel_error(param_grad_num, grads[param_name])\n",
    "    print('{} max relative error: {}'.format(param_name, rel_error(param_grad_num, grads[param_name])))"
   ]
  },
  {
   "cell_type": "markdown",
   "metadata": {},
   "source": [
    "### Overfit small dataset\n",
    "\n",
    "To check your CNN implementation, let's overfit a small dataset."
   ]
  },
  {
   "cell_type": "code",
   "execution_count": 17,
   "metadata": {},
   "outputs": [
    {
     "name": "stdout",
     "output_type": "stream",
     "text": [
      "(Iteration 1 / 20) loss: 2.397589\n",
      "(Epoch 0 / 10) train acc: 0.180000; val_acc: 0.119000\n",
      "(Iteration 2 / 20) loss: 4.120625\n",
      "(Epoch 1 / 10) train acc: 0.130000; val_acc: 0.112000\n",
      "(Iteration 3 / 20) loss: 3.319098\n",
      "(Iteration 4 / 20) loss: 2.591742\n",
      "(Epoch 2 / 10) train acc: 0.220000; val_acc: 0.124000\n",
      "(Iteration 5 / 20) loss: 2.593639\n",
      "(Iteration 6 / 20) loss: 2.311939\n",
      "(Epoch 3 / 10) train acc: 0.190000; val_acc: 0.082000\n",
      "(Iteration 7 / 20) loss: 2.516138\n",
      "(Iteration 8 / 20) loss: 2.083103\n",
      "(Epoch 4 / 10) train acc: 0.360000; val_acc: 0.181000\n",
      "(Iteration 9 / 20) loss: 1.882816\n",
      "(Iteration 10 / 20) loss: 1.920044\n",
      "(Epoch 5 / 10) train acc: 0.240000; val_acc: 0.137000\n",
      "(Iteration 11 / 20) loss: 1.796969\n",
      "(Iteration 12 / 20) loss: 1.712913\n",
      "(Epoch 6 / 10) train acc: 0.430000; val_acc: 0.163000\n",
      "(Iteration 13 / 20) loss: 1.531970\n",
      "(Iteration 14 / 20) loss: 1.334342\n",
      "(Epoch 7 / 10) train acc: 0.560000; val_acc: 0.152000\n",
      "(Iteration 15 / 20) loss: 1.458933\n",
      "(Iteration 16 / 20) loss: 1.445079\n",
      "(Epoch 8 / 10) train acc: 0.730000; val_acc: 0.185000\n",
      "(Iteration 17 / 20) loss: 1.158440\n",
      "(Iteration 18 / 20) loss: 1.107283\n",
      "(Epoch 9 / 10) train acc: 0.700000; val_acc: 0.200000\n",
      "(Iteration 19 / 20) loss: 0.849214\n",
      "(Iteration 20 / 20) loss: 0.928757\n",
      "(Epoch 10 / 10) train acc: 0.780000; val_acc: 0.203000\n"
     ]
    }
   ],
   "source": [
    "num_train = 100\n",
    "small_data = {\n",
    "  'X_train': data['X_train'][:num_train],\n",
    "  'y_train': data['y_train'][:num_train],\n",
    "  'X_val': data['X_val'],\n",
    "  'y_val': data['y_val'],\n",
    "}\n",
    "\n",
    "model = ThreeLayerConvNet(weight_scale=1e-2)\n",
    "\n",
    "solver = Solver(model, small_data,\n",
    "                num_epochs=10, batch_size=50,\n",
    "                update_rule='adam',\n",
    "                optim_config={\n",
    "                  'learning_rate': 1e-3,\n",
    "                },\n",
    "                verbose=True, print_every=1)\n",
    "solver.train()"
   ]
  },
  {
   "cell_type": "code",
   "execution_count": 18,
   "metadata": {},
   "outputs": [
    {
     "data": {
      "image/png": "[encoded data removed]",
      "text/plain": [
       "<Figure size 432x288 with 2 Axes>"
      ]
     },
     "metadata": {
      "needs_background": "light"
     },
     "output_type": "display_data"
    }
   ],
   "source": [
    "plt.subplot(2, 1, 1)\n",
    "plt.plot(solver.loss_history, 'o')\n",
    "plt.xlabel('iteration')\n",
    "plt.ylabel('loss')\n",
    "\n",
    "plt.subplot(2, 1, 2)\n",
    "plt.plot(solver.train_acc_history, '-o')\n",
    "plt.plot(solver.val_acc_history, '-o')\n",
    "plt.legend(['train', 'val'], loc='upper left')\n",
    "plt.xlabel('epoch')\n",
    "plt.ylabel('accuracy')\n",
    "plt.show()"
   ]
  },
  {
   "cell_type": "markdown",
   "metadata": {},
   "source": [
    "## Train the network\n",
    "\n",
    "Now we train the 3 layer CNN on CIFAR-10 and assess its accuracy."
   ]
  },
  {
   "cell_type": "code",
   "execution_count": 19,
   "metadata": {
    "scrolled": false
   },
   "outputs": [
    {
     "name": "stdout",
     "output_type": "stream",
     "text": [
      "(Iteration 1 / 980) loss: 2.304756\n",
      "(Epoch 0 / 1) train acc: 0.088000; val_acc: 0.108000\n",
      "(Iteration 21 / 980) loss: 1.942730\n",
      "(Iteration 41 / 980) loss: 1.997121\n",
      "(Iteration 61 / 980) loss: 1.877314\n",
      "(Iteration 81 / 980) loss: 2.052846\n",
      "(Iteration 101 / 980) loss: 1.829158\n",
      "(Iteration 121 / 980) loss: 1.714817\n",
      "(Iteration 141 / 980) loss: 1.652585\n",
      "(Iteration 161 / 980) loss: 1.676669\n",
      "(Iteration 181 / 980) loss: 1.740785\n",
      "(Iteration 201 / 980) loss: 1.851809\n",
      "(Iteration 221 / 980) loss: 1.757540\n",
      "(Iteration 241 / 980) loss: 1.830339\n",
      "(Iteration 261 / 980) loss: 1.577376\n",
      "(Iteration 281 / 980) loss: 1.632868\n",
      "(Iteration 301 / 980) loss: 1.603442\n",
      "(Iteration 321 / 980) loss: 1.733751\n",
      "(Iteration 341 / 980) loss: 1.621120\n",
      "(Iteration 361 / 980) loss: 1.571553\n",
      "(Iteration 381 / 980) loss: 1.662894\n",
      "(Iteration 401 / 980) loss: 1.616243\n",
      "(Iteration 421 / 980) loss: 1.773326\n",
      "(Iteration 441 / 980) loss: 1.634216\n",
      "(Iteration 461 / 980) loss: 1.613586\n",
      "(Iteration 481 / 980) loss: 1.342808\n",
      "(Iteration 501 / 980) loss: 1.818489\n",
      "(Iteration 521 / 980) loss: 1.552997\n",
      "(Iteration 541 / 980) loss: 1.444411\n",
      "(Iteration 561 / 980) loss: 1.583259\n",
      "(Iteration 581 / 980) loss: 1.512446\n",
      "(Iteration 601 / 980) loss: 1.561763\n",
      "(Iteration 621 / 980) loss: 1.603161\n",
      "(Iteration 641 / 980) loss: 1.644619\n",
      "(Iteration 661 / 980) loss: 1.607761\n",
      "(Iteration 681 / 980) loss: 1.436226\n",
      "(Iteration 701 / 980) loss: 1.450014\n",
      "(Iteration 721 / 980) loss: 1.597232\n",
      "(Iteration 741 / 980) loss: 1.405508\n",
      "(Iteration 761 / 980) loss: 1.445896\n",
      "(Iteration 781 / 980) loss: 1.760990\n",
      "(Iteration 801 / 980) loss: 1.405056\n",
      "(Iteration 821 / 980) loss: 1.367181\n",
      "(Iteration 841 / 980) loss: 1.512223\n",
      "(Iteration 861 / 980) loss: 1.753370\n",
      "(Iteration 881 / 980) loss: 1.505642\n",
      "(Iteration 901 / 980) loss: 1.533593\n",
      "(Iteration 921 / 980) loss: 1.461071\n",
      "(Iteration 941 / 980) loss: 1.546341\n",
      "(Iteration 961 / 980) loss: 1.826141\n",
      "(Epoch 1 / 1) train acc: 0.457000; val_acc: 0.447000\n"
     ]
    }
   ],
   "source": [
    "model = ThreeLayerConvNet(weight_scale=0.001, hidden_dim=500, reg=0.001)\n",
    "\n",
    "solver = Solver(model, data,\n",
    "                num_epochs=1, batch_size=50,\n",
    "                update_rule='adam',\n",
    "                optim_config={\n",
    "                  'learning_rate': 1e-3,\n",
    "                },\n",
    "                verbose=True, print_every=20)\n",
    "solver.train()"
   ]
  },
  {
   "cell_type": "markdown",
   "metadata": {},
   "source": [
    "# Get > 65% validation accuracy on CIFAR-10.\n",
    "\n",
    "In the last part of the assignment, we'll now ask you to train a CNN to get better than 65% validation accuracy on CIFAR-10.\n",
    "\n",
    "### Things you should try:\n",
    "- Filter size: Above we used 7x7; but VGGNet and onwards showed stacks of 3x3 filters are good.  \n",
    "- Number of filters: Above we used 32 filters. Do more or fewer do better?\n",
    "- Batch normalization: Try adding spatial batch normalization after convolution layers and vanilla batch normalization aafter affine layers. Do your networks train faster?\n",
    "- Network architecture: Can a deeper CNN do better?  Consider these architectures:\n",
    "    - [conv-relu-pool]xN - conv - relu - [affine]xM - [softmax or SVM]\n",
    "    - [conv-relu-pool]XN - [affine]XM - [softmax or SVM]\n",
    "    - [conv-relu-conv-relu-pool]xN - [affine]xM - [softmax or SVM]\n",
    "\n",
    "### Tips for training\n",
    "For each network architecture that you try, you should tune the learning rate and regularization strength. When doing this there are a couple important things to keep in mind:\n",
    "\n",
    "- If the parameters are working well, you should see improvement within a few hundred iterations\n",
    "- Remember the coarse-to-fine approach for hyperparameter tuning: start by testing a large range of hyperparameters for just a few training iterations to find the combinations of parameters that are working at all.\n",
    "- Once you have found some sets of parameters that seem to work, search more finely around these parameters. You may need to train for more epochs."
   ]
  },
  {
   "cell_type": "code",
   "execution_count": 20,
   "metadata": {
    "scrolled": false
   },
   "outputs": [
    {
     "name": "stdout",
     "output_type": "stream",
     "text": [
      "(Iteration 1 / 9780) loss: 2.991129\n",
      "(Epoch 0 / 30) train acc: 0.134000; val_acc: 0.126000\n",
      "(Iteration 51 / 9780) loss: 2.031228\n",
      "(Iteration 101 / 9780) loss: 1.898359\n",
      "(Iteration 151 / 9780) loss: 1.868046\n",
      "(Iteration 201 / 9780) loss: 1.626207\n",
      "(Iteration 251 / 9780) loss: 1.589093\n",
      "(Iteration 301 / 9780) loss: 1.431785\n",
      "(Epoch 1 / 30) train acc: 0.479000; val_acc: 0.496000\n",
      "(Iteration 351 / 9780) loss: 1.634642\n",
      "(Iteration 401 / 9780) loss: 1.316054\n",
      "(Iteration 451 / 9780) loss: 1.397050\n",
      "(Iteration 501 / 9780) loss: 1.162697\n",
      "(Iteration 551 / 9780) loss: 1.387153\n",
      "(Iteration 601 / 9780) loss: 1.286614\n",
      "(Iteration 651 / 9780) loss: 1.233537\n",
      "(Epoch 2 / 30) train acc: 0.586000; val_acc: 0.576000\n",
      "(Iteration 701 / 9780) loss: 1.250065\n",
      "(Iteration 751 / 9780) loss: 1.252794\n",
      "(Iteration 801 / 9780) loss: 1.300402\n",
      "(Iteration 851 / 9780) loss: 1.043082\n",
      "(Iteration 901 / 9780) loss: 1.174714\n",
      "(Iteration 951 / 9780) loss: 1.239517\n",
      "(Epoch 3 / 30) train acc: 0.600000; val_acc: 0.568000\n",
      "(Iteration 1001 / 9780) loss: 1.103326\n",
      "(Iteration 1051 / 9780) loss: 1.252068\n",
      "(Iteration 1101 / 9780) loss: 0.972454\n",
      "(Iteration 1151 / 9780) loss: 0.999068\n",
      "(Iteration 1201 / 9780) loss: 1.318373\n",
      "(Iteration 1251 / 9780) loss: 1.009399\n",
      "(Iteration 1301 / 9780) loss: 0.899002\n",
      "(Epoch 4 / 30) train acc: 0.655000; val_acc: 0.619000\n",
      "(Iteration 1351 / 9780) loss: 1.231413\n",
      "(Iteration 1401 / 9780) loss: 1.236295\n",
      "(Iteration 1451 / 9780) loss: 0.805382\n",
      "(Iteration 1501 / 9780) loss: 1.118289\n",
      "(Iteration 1551 / 9780) loss: 1.056674\n",
      "(Iteration 1601 / 9780) loss: 1.037716\n",
      "(Epoch 5 / 30) train acc: 0.691000; val_acc: 0.605000\n",
      "(Iteration 1651 / 9780) loss: 1.125413\n",
      "(Iteration 1701 / 9780) loss: 0.964920\n",
      "(Iteration 1751 / 9780) loss: 1.012889\n",
      "(Iteration 1801 / 9780) loss: 1.230181\n",
      "(Iteration 1851 / 9780) loss: 0.925321\n",
      "(Iteration 1901 / 9780) loss: 0.854641\n",
      "(Iteration 1951 / 9780) loss: 1.017901\n",
      "(Epoch 6 / 30) train acc: 0.700000; val_acc: 0.617000\n",
      "(Iteration 2001 / 9780) loss: 0.821760\n",
      "(Iteration 2051 / 9780) loss: 1.172160\n",
      "(Iteration 2101 / 9780) loss: 0.993233\n",
      "(Iteration 2151 / 9780) loss: 0.807568\n",
      "(Iteration 2201 / 9780) loss: 0.816544\n",
      "(Iteration 2251 / 9780) loss: 0.921541\n",
      "(Epoch 7 / 30) train acc: 0.651000; val_acc: 0.628000\n",
      "(Iteration 2301 / 9780) loss: 1.210849\n",
      "(Iteration 2351 / 9780) loss: 0.875151\n",
      "(Iteration 2401 / 9780) loss: 1.087041\n",
      "(Iteration 2451 / 9780) loss: 0.976358\n",
      "(Iteration 2501 / 9780) loss: 0.809645\n",
      "(Iteration 2551 / 9780) loss: 0.851087\n",
      "(Iteration 2601 / 9780) loss: 0.874583\n",
      "(Epoch 8 / 30) train acc: 0.708000; val_acc: 0.642000\n",
      "(Iteration 2651 / 9780) loss: 0.844797\n",
      "(Iteration 2701 / 9780) loss: 0.899964\n",
      "(Iteration 2751 / 9780) loss: 0.761480\n",
      "(Iteration 2801 / 9780) loss: 0.815520\n",
      "(Iteration 2851 / 9780) loss: 0.939623\n",
      "(Iteration 2901 / 9780) loss: 0.904320\n",
      "(Epoch 9 / 30) train acc: 0.730000; val_acc: 0.657000\n",
      "(Iteration 2951 / 9780) loss: 0.812068\n",
      "(Iteration 3001 / 9780) loss: 1.000455\n",
      "(Iteration 3051 / 9780) loss: 0.974975\n",
      "(Iteration 3101 / 9780) loss: 0.804937\n",
      "(Iteration 3151 / 9780) loss: 0.890998\n",
      "(Iteration 3201 / 9780) loss: 0.781455\n",
      "(Iteration 3251 / 9780) loss: 0.917746\n",
      "(Epoch 10 / 30) train acc: 0.728000; val_acc: 0.642000\n",
      "(Iteration 3301 / 9780) loss: 0.704264\n",
      "(Iteration 3351 / 9780) loss: 0.685415\n",
      "(Iteration 3401 / 9780) loss: 0.820125\n",
      "(Iteration 3451 / 9780) loss: 0.767977\n",
      "(Iteration 3501 / 9780) loss: 0.717695\n",
      "(Iteration 3551 / 9780) loss: 0.815967\n",
      "(Epoch 11 / 30) train acc: 0.733000; val_acc: 0.650000\n",
      "(Iteration 3601 / 9780) loss: 0.663866\n",
      "(Iteration 3651 / 9780) loss: 0.958813\n",
      "(Iteration 3701 / 9780) loss: 0.642255\n",
      "(Iteration 3751 / 9780) loss: 0.802598\n",
      "(Iteration 3801 / 9780) loss: 0.960456\n",
      "(Iteration 3851 / 9780) loss: 0.787323\n",
      "(Iteration 3901 / 9780) loss: 0.699689\n",
      "(Epoch 12 / 30) train acc: 0.759000; val_acc: 0.638000\n",
      "(Iteration 3951 / 9780) loss: 0.832138\n",
      "(Iteration 4001 / 9780) loss: 0.764508\n",
      "(Iteration 4051 / 9780) loss: 0.772183\n",
      "(Iteration 4101 / 9780) loss: 0.597031\n",
      "(Iteration 4151 / 9780) loss: 0.596855\n",
      "(Iteration 4201 / 9780) loss: 0.586561\n",
      "(Epoch 13 / 30) train acc: 0.740000; val_acc: 0.657000\n",
      "(Iteration 4251 / 9780) loss: 0.708154\n",
      "(Iteration 4301 / 9780) loss: 0.848886\n",
      "(Iteration 4351 / 9780) loss: 0.704337\n",
      "(Iteration 4401 / 9780) loss: 0.648911\n",
      "(Iteration 4451 / 9780) loss: 0.775536\n",
      "(Iteration 4501 / 9780) loss: 0.703512\n",
      "(Iteration 4551 / 9780) loss: 0.800367\n",
      "(Epoch 14 / 30) train acc: 0.757000; val_acc: 0.656000\n",
      "(Iteration 4601 / 9780) loss: 0.823438\n",
      "(Iteration 4651 / 9780) loss: 0.857164\n"
     ]
    },
    {
     "ename": "KeyboardInterrupt",
     "evalue": "",
     "output_type": "error",
     "traceback": [
      "\u001b[0;31m---------------------------------------------------------------------------\u001b[0m",
      "\u001b[0;31mKeyboardInterrupt\u001b[0m                         Traceback (most recent call last)",
      "\u001b[0;32m<ipython-input-20-debd31031e08>\u001b[0m in \u001b[0;36m<module>\u001b[0;34m()\u001b[0m\n\u001b[1;32m     16\u001b[0m                 \u001b[0mlr_decay\u001b[0m\u001b[0;34m=\u001b[0m\u001b[0;36m0.9\u001b[0m\u001b[0;34m,\u001b[0m\u001b[0;34m\u001b[0m\u001b[0m\n\u001b[1;32m     17\u001b[0m                 verbose=True, print_every=50)\n\u001b[0;32m---> 18\u001b[0;31m \u001b[0msolver\u001b[0m\u001b[0;34m.\u001b[0m\u001b[0mtrain\u001b[0m\u001b[0;34m(\u001b[0m\u001b[0;34m)\u001b[0m\u001b[0;34m\u001b[0m\u001b[0m\n\u001b[0m",
      "\u001b[0;32m~/Github/ucla-computer-science/ecengr-239as-neural-networks-deep-learning/hw5_code/cs231n/solver.py\u001b[0m in \u001b[0;36mtrain\u001b[0;34m(self)\u001b[0m\n\u001b[1;32m    262\u001b[0m \u001b[0;34m\u001b[0m\u001b[0m\n\u001b[1;32m    263\u001b[0m         \u001b[0;32mfor\u001b[0m \u001b[0mt\u001b[0m \u001b[0;32min\u001b[0m \u001b[0mrange\u001b[0m\u001b[0;34m(\u001b[0m\u001b[0mnum_iterations\u001b[0m\u001b[0;34m)\u001b[0m\u001b[0;34m:\u001b[0m\u001b[0;34m\u001b[0m\u001b[0m\n\u001b[0;32m--> 264\u001b[0;31m             \u001b[0mself\u001b[0m\u001b[0;34m.\u001b[0m\u001b[0m_step\u001b[0m\u001b[0;34m(\u001b[0m\u001b[0;34m)\u001b[0m\u001b[0;34m\u001b[0m\u001b[0m\n\u001b[0m\u001b[1;32m    265\u001b[0m \u001b[0;34m\u001b[0m\u001b[0m\n\u001b[1;32m    266\u001b[0m             \u001b[0;31m# Maybe print training loss\u001b[0m\u001b[0;34m\u001b[0m\u001b[0;34m\u001b[0m\u001b[0m\n",
      "\u001b[0;32m~/Github/ucla-computer-science/ecengr-239as-neural-networks-deep-learning/hw5_code/cs231n/solver.py\u001b[0m in \u001b[0;36m_step\u001b[0;34m(self)\u001b[0m\n\u001b[1;32m    178\u001b[0m \u001b[0;34m\u001b[0m\u001b[0m\n\u001b[1;32m    179\u001b[0m         \u001b[0;31m# Compute loss and gradient\u001b[0m\u001b[0;34m\u001b[0m\u001b[0;34m\u001b[0m\u001b[0m\n\u001b[0;32m--> 180\u001b[0;31m         \u001b[0mloss\u001b[0m\u001b[0;34m,\u001b[0m \u001b[0mgrads\u001b[0m \u001b[0;34m=\u001b[0m \u001b[0mself\u001b[0m\u001b[0;34m.\u001b[0m\u001b[0mmodel\u001b[0m\u001b[0;34m.\u001b[0m\u001b[0mloss\u001b[0m\u001b[0;34m(\u001b[0m\u001b[0mX_batch\u001b[0m\u001b[0;34m,\u001b[0m \u001b[0my_batch\u001b[0m\u001b[0;34m)\u001b[0m\u001b[0;34m\u001b[0m\u001b[0m\n\u001b[0m\u001b[1;32m    181\u001b[0m         \u001b[0mself\u001b[0m\u001b[0;34m.\u001b[0m\u001b[0mloss_history\u001b[0m\u001b[0;34m.\u001b[0m\u001b[0mappend\u001b[0m\u001b[0;34m(\u001b[0m\u001b[0mloss\u001b[0m\u001b[0;34m)\u001b[0m\u001b[0;34m\u001b[0m\u001b[0m\n\u001b[1;32m    182\u001b[0m \u001b[0;34m\u001b[0m\u001b[0m\n",
      "\u001b[0;32m~/Github/ucla-computer-science/ecengr-239as-neural-networks-deep-learning/hw5_code/nndl/cnn.py\u001b[0m in \u001b[0;36mloss\u001b[0;34m(self, X, y)\u001b[0m\n\u001b[1;32m    166\u001b[0m     \u001b[0;31m# backward propagation for conv - relu - 2x2 max pool layer\u001b[0m\u001b[0;34m\u001b[0m\u001b[0;34m\u001b[0m\u001b[0m\n\u001b[1;32m    167\u001b[0m     \u001b[0mdx2\u001b[0m \u001b[0;34m=\u001b[0m \u001b[0mdx2\u001b[0m\u001b[0;34m.\u001b[0m\u001b[0mreshape\u001b[0m\u001b[0;34m(\u001b[0m\u001b[0mN\u001b[0m\u001b[0;34m,\u001b[0m \u001b[0mF\u001b[0m\u001b[0;34m,\u001b[0m \u001b[0mconv_h\u001b[0m\u001b[0;34m,\u001b[0m \u001b[0mconv_w\u001b[0m\u001b[0;34m)\u001b[0m \u001b[0;31m# reshape dx2 for conv layer backprop\u001b[0m\u001b[0;34m\u001b[0m\u001b[0m\n\u001b[0;32m--> 168\u001b[0;31m     \u001b[0mdx1\u001b[0m\u001b[0;34m,\u001b[0m \u001b[0mdw1\u001b[0m\u001b[0;34m,\u001b[0m \u001b[0mdb1\u001b[0m \u001b[0;34m=\u001b[0m \u001b[0mconv_relu_pool_backward\u001b[0m\u001b[0;34m(\u001b[0m\u001b[0mdx2\u001b[0m\u001b[0;34m,\u001b[0m \u001b[0mconv_cache\u001b[0m\u001b[0;34m)\u001b[0m\u001b[0;34m\u001b[0m\u001b[0m\n\u001b[0m\u001b[1;32m    169\u001b[0m     \u001b[0mgrads\u001b[0m\u001b[0;34m[\u001b[0m\u001b[0;34m'W1'\u001b[0m\u001b[0;34m]\u001b[0m \u001b[0;34m=\u001b[0m \u001b[0mdw1\u001b[0m \u001b[0;34m+\u001b[0m \u001b[0mself\u001b[0m\u001b[0;34m.\u001b[0m\u001b[0mreg\u001b[0m\u001b[0;34m*\u001b[0m\u001b[0mW1\u001b[0m\u001b[0;34m\u001b[0m\u001b[0m\n\u001b[1;32m    170\u001b[0m     \u001b[0mgrads\u001b[0m\u001b[0;34m[\u001b[0m\u001b[0;34m'b1'\u001b[0m\u001b[0;34m]\u001b[0m \u001b[0;34m=\u001b[0m \u001b[0mdb1\u001b[0m\u001b[0;34m\u001b[0m\u001b[0m\n",
      "\u001b[0;32m~/Github/ucla-computer-science/ecengr-239as-neural-networks-deep-learning/hw5_code/nndl/conv_layer_utils.py\u001b[0m in \u001b[0;36mconv_relu_pool_backward\u001b[0;34m(dout, cache)\u001b[0m\n\u001b[1;32m     66\u001b[0m   \"\"\"\n\u001b[1;32m     67\u001b[0m   \u001b[0mconv_cache\u001b[0m\u001b[0;34m,\u001b[0m \u001b[0mrelu_cache\u001b[0m\u001b[0;34m,\u001b[0m \u001b[0mpool_cache\u001b[0m \u001b[0;34m=\u001b[0m \u001b[0mcache\u001b[0m\u001b[0;34m\u001b[0m\u001b[0m\n\u001b[0;32m---> 68\u001b[0;31m   \u001b[0mds\u001b[0m \u001b[0;34m=\u001b[0m \u001b[0mmax_pool_backward_fast\u001b[0m\u001b[0;34m(\u001b[0m\u001b[0mdout\u001b[0m\u001b[0;34m,\u001b[0m \u001b[0mpool_cache\u001b[0m\u001b[0;34m)\u001b[0m\u001b[0;34m\u001b[0m\u001b[0m\n\u001b[0m\u001b[1;32m     69\u001b[0m   \u001b[0mda\u001b[0m \u001b[0;34m=\u001b[0m \u001b[0mrelu_backward\u001b[0m\u001b[0;34m(\u001b[0m\u001b[0mds\u001b[0m\u001b[0;34m,\u001b[0m \u001b[0mrelu_cache\u001b[0m\u001b[0;34m)\u001b[0m\u001b[0;34m\u001b[0m\u001b[0m\n\u001b[1;32m     70\u001b[0m   \u001b[0mdx\u001b[0m\u001b[0;34m,\u001b[0m \u001b[0mdw\u001b[0m\u001b[0;34m,\u001b[0m \u001b[0mdb\u001b[0m \u001b[0;34m=\u001b[0m \u001b[0mconv_backward_fast\u001b[0m\u001b[0;34m(\u001b[0m\u001b[0mda\u001b[0m\u001b[0;34m,\u001b[0m \u001b[0mconv_cache\u001b[0m\u001b[0;34m)\u001b[0m\u001b[0;34m\u001b[0m\u001b[0m\n",
      "\u001b[0;32m~/Github/ucla-computer-science/ecengr-239as-neural-networks-deep-learning/hw5_code/cs231n/fast_layers.py\u001b[0m in \u001b[0;36mmax_pool_backward_fast\u001b[0;34m(dout, cache)\u001b[0m\n\u001b[1;32m    166\u001b[0m     \u001b[0mmethod\u001b[0m\u001b[0;34m,\u001b[0m \u001b[0mreal_cache\u001b[0m \u001b[0;34m=\u001b[0m \u001b[0mcache\u001b[0m\u001b[0;34m\u001b[0m\u001b[0m\n\u001b[1;32m    167\u001b[0m     \u001b[0;32mif\u001b[0m \u001b[0mmethod\u001b[0m \u001b[0;34m==\u001b[0m \u001b[0;34m'reshape'\u001b[0m\u001b[0;34m:\u001b[0m\u001b[0;34m\u001b[0m\u001b[0m\n\u001b[0;32m--> 168\u001b[0;31m         \u001b[0;32mreturn\u001b[0m \u001b[0mmax_pool_backward_reshape\u001b[0m\u001b[0;34m(\u001b[0m\u001b[0mdout\u001b[0m\u001b[0;34m,\u001b[0m \u001b[0mreal_cache\u001b[0m\u001b[0;34m)\u001b[0m\u001b[0;34m\u001b[0m\u001b[0m\n\u001b[0m\u001b[1;32m    169\u001b[0m     \u001b[0;32melif\u001b[0m \u001b[0mmethod\u001b[0m \u001b[0;34m==\u001b[0m \u001b[0;34m'im2col'\u001b[0m\u001b[0;34m:\u001b[0m\u001b[0;34m\u001b[0m\u001b[0m\n\u001b[1;32m    170\u001b[0m         \u001b[0;32mreturn\u001b[0m \u001b[0mmax_pool_backward_im2col\u001b[0m\u001b[0;34m(\u001b[0m\u001b[0mdout\u001b[0m\u001b[0;34m,\u001b[0m \u001b[0mreal_cache\u001b[0m\u001b[0;34m)\u001b[0m\u001b[0;34m\u001b[0m\u001b[0m\n",
      "\u001b[0;32m~/Github/ucla-computer-science/ecengr-239as-neural-networks-deep-learning/hw5_code/cs231n/fast_layers.py\u001b[0m in \u001b[0;36mmax_pool_backward_reshape\u001b[0;34m(dout, cache)\u001b[0m\n\u001b[1;32m    219\u001b[0m     \u001b[0mdout_broadcast\u001b[0m\u001b[0;34m,\u001b[0m \u001b[0m_\u001b[0m \u001b[0;34m=\u001b[0m \u001b[0mnp\u001b[0m\u001b[0;34m.\u001b[0m\u001b[0mbroadcast_arrays\u001b[0m\u001b[0;34m(\u001b[0m\u001b[0mdout_newaxis\u001b[0m\u001b[0;34m,\u001b[0m \u001b[0mdx_reshaped\u001b[0m\u001b[0;34m)\u001b[0m\u001b[0;34m\u001b[0m\u001b[0m\n\u001b[1;32m    220\u001b[0m     \u001b[0mdx_reshaped\u001b[0m\u001b[0;34m[\u001b[0m\u001b[0mmask\u001b[0m\u001b[0;34m]\u001b[0m \u001b[0;34m=\u001b[0m \u001b[0mdout_broadcast\u001b[0m\u001b[0;34m[\u001b[0m\u001b[0mmask\u001b[0m\u001b[0;34m]\u001b[0m\u001b[0;34m\u001b[0m\u001b[0m\n\u001b[0;32m--> 221\u001b[0;31m     \u001b[0mdx_reshaped\u001b[0m \u001b[0;34m/=\u001b[0m \u001b[0mnp\u001b[0m\u001b[0;34m.\u001b[0m\u001b[0msum\u001b[0m\u001b[0;34m(\u001b[0m\u001b[0mmask\u001b[0m\u001b[0;34m,\u001b[0m \u001b[0maxis\u001b[0m\u001b[0;34m=\u001b[0m\u001b[0;34m(\u001b[0m\u001b[0;36m3\u001b[0m\u001b[0;34m,\u001b[0m \u001b[0;36m5\u001b[0m\u001b[0;34m)\u001b[0m\u001b[0;34m,\u001b[0m \u001b[0mkeepdims\u001b[0m\u001b[0;34m=\u001b[0m\u001b[0;32mTrue\u001b[0m\u001b[0;34m)\u001b[0m\u001b[0;34m\u001b[0m\u001b[0m\n\u001b[0m\u001b[1;32m    222\u001b[0m     \u001b[0mdx\u001b[0m \u001b[0;34m=\u001b[0m \u001b[0mdx_reshaped\u001b[0m\u001b[0;34m.\u001b[0m\u001b[0mreshape\u001b[0m\u001b[0;34m(\u001b[0m\u001b[0mx\u001b[0m\u001b[0;34m.\u001b[0m\u001b[0mshape\u001b[0m\u001b[0;34m)\u001b[0m\u001b[0;34m\u001b[0m\u001b[0m\n\u001b[1;32m    223\u001b[0m \u001b[0;34m\u001b[0m\u001b[0m\n",
      "\u001b[0;32m/anaconda3/lib/python3.7/site-packages/numpy/core/fromnumeric.py\u001b[0m in \u001b[0;36msum\u001b[0;34m(a, axis, dtype, out, keepdims, initial)\u001b[0m\n\u001b[1;32m   1928\u001b[0m \u001b[0;34m\u001b[0m\u001b[0m\n\u001b[1;32m   1929\u001b[0m     return _wrapreduction(a, np.add, 'sum', axis, dtype, out, keepdims=keepdims,\n\u001b[0;32m-> 1930\u001b[0;31m                           initial=initial)\n\u001b[0m\u001b[1;32m   1931\u001b[0m \u001b[0;34m\u001b[0m\u001b[0m\n\u001b[1;32m   1932\u001b[0m \u001b[0;34m\u001b[0m\u001b[0m\n",
      "\u001b[0;32m/anaconda3/lib/python3.7/site-packages/numpy/core/fromnumeric.py\u001b[0m in \u001b[0;36m_wrapreduction\u001b[0;34m(obj, ufunc, method, axis, dtype, out, **kwargs)\u001b[0m\n\u001b[1;32m     81\u001b[0m                 \u001b[0;32mreturn\u001b[0m \u001b[0mreduction\u001b[0m\u001b[0;34m(\u001b[0m\u001b[0maxis\u001b[0m\u001b[0;34m=\u001b[0m\u001b[0maxis\u001b[0m\u001b[0;34m,\u001b[0m \u001b[0mout\u001b[0m\u001b[0;34m=\u001b[0m\u001b[0mout\u001b[0m\u001b[0;34m,\u001b[0m \u001b[0;34m**\u001b[0m\u001b[0mpasskwargs\u001b[0m\u001b[0;34m)\u001b[0m\u001b[0;34m\u001b[0m\u001b[0m\n\u001b[1;32m     82\u001b[0m \u001b[0;34m\u001b[0m\u001b[0m\n\u001b[0;32m---> 83\u001b[0;31m     \u001b[0;32mreturn\u001b[0m \u001b[0mufunc\u001b[0m\u001b[0;34m.\u001b[0m\u001b[0mreduce\u001b[0m\u001b[0;34m(\u001b[0m\u001b[0mobj\u001b[0m\u001b[0;34m,\u001b[0m \u001b[0maxis\u001b[0m\u001b[0;34m,\u001b[0m \u001b[0mdtype\u001b[0m\u001b[0;34m,\u001b[0m \u001b[0mout\u001b[0m\u001b[0;34m,\u001b[0m \u001b[0;34m**\u001b[0m\u001b[0mpasskwargs\u001b[0m\u001b[0;34m)\u001b[0m\u001b[0;34m\u001b[0m\u001b[0m\n\u001b[0m\u001b[1;32m     84\u001b[0m \u001b[0;34m\u001b[0m\u001b[0m\n\u001b[1;32m     85\u001b[0m \u001b[0;34m\u001b[0m\u001b[0m\n",
      "\u001b[0;31mKeyboardInterrupt\u001b[0m: "
     ]
    }
   ],
   "source": [
    "# ================================================================ #\n",
    "# YOUR CODE HERE:\n",
    "#   Implement a CNN to achieve greater than 65% validation accuracy\n",
    "#   on CIFAR-10.\n",
    "# ================================================================ #\n",
    "\n",
    "model = ThreeLayerConvNet(weight_scale=0.01, hidden_dim=500,\n",
    "                          reg=0.001)\n",
    "\n",
    "solver = Solver(model, data,\n",
    "                num_epochs=15, batch_size=150,\n",
    "                update_rule='adam',\n",
    "                optim_config={\n",
    "                  'learning_rate': 1e-3,\n",
    "                },\n",
    "                lr_decay=0.9,\n",
    "                verbose=True, print_every=50)\n",
    "solver.train()\n"
   ]
  }
 ],
 "metadata": {
  "kernelspec": {
   "display_name": "Python 3",
   "language": "python",
   "name": "python3"
  },
  "language_info": {
   "codemirror_mode": {
    "name": "ipython",
    "version": 3
   },
   "file_extension": ".py",
   "mimetype": "text/x-python",
   "name": "python",
   "nbconvert_exporter": "python",
   "pygments_lexer": "ipython3",
   "version": "3.7.2"
  }
 },
 "nbformat": 4,
 "nbformat_minor": 2
}
